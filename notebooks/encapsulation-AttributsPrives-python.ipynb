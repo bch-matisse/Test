{
 "cells": [
  {
   "cell_type": "markdown",
   "metadata": {},
   "source": [
    "La POO est dirigée par trois fondamentaux qu'il convient de toujours garder à l'esprit : encapsulation,\n",
    "héritage et polymorphisme.\n",
    "\n",
    "# Encapsulation\n",
    "\n",
    "Derrière ce terme se cache le concept même de l'objet : réunir sous la même entité les données et les\n",
    "moyens de les gérer, à savoir les attributs et les méthodes.\n",
    "\n",
    "L'encapsulation introduit donc une nouvelle manière de gérer des données. Il ne s'agit plus de déclarer des\n",
    "données générales puis un ensemble de procédures et fonctions destinées à les gérer de manière séparée,\n",
    "mais bien de réunir le tout sous le couvert d'une seule et même entité.\n",
    "\n",
    "Sous ce nouveau concept se cache également un autre élément à prendre en compte : pouvoir masquer aux\n",
    "yeux d'un programmeur extérieur tous les rouages d'un objet et donc l'ensemble des procédures et\n",
    "fonctions destinées à la gestion interne de l'objet, auxquelles le programmeur final n'aura pas à avoir accès.\n",
    "L'encapsulation permet donc de masquer un certain nombre de attributs et méthodes tout en laissant\n",
    "visibles d'autres attributs et méthodes.\n",
    "\n",
    "L'encapsulation permet de garder une cohérence dans la gestion de l'objet, tout en assurant l'intégrité des\n",
    "données qui ne pourront être accédées qu'au travers des méthodes visibles.\n",
    "\n",
    "On va définir des méthodes un peu particulières, appelées des accesseurs et mutateurs. Les accesseurs\n",
    "donnent accès à l'attribut. Les mutateurs permettent de le modifier. \n",
    "Concrètement, au lieu d'écrire mon_objet.mon_attribut, il faut écrire mon_objet.get_mon_attribut(). De la même manière, pour modifier l'attribut ce sera mon_objet.set_mon_attribut(valeur) et non pas mon_objet.mon_attribut = valeur."
   ]
  },
  {
   "cell_type": "markdown",
   "metadata": {},
   "source": [
    "## Attributs et méthodes publics\n",
    "\n",
    "Comme leur nom l'indique, les attributs et méthodes dits publics sont accessibles depuis tous les\n",
    "descendants et dans tous les modules.\n",
    "On peut considérer que les éléments publics n'ont pas de restriction particulière."
   ]
  },
  {
   "cell_type": "code",
   "execution_count": 17,
   "metadata": {},
   "outputs": [
    {
     "name": "stdout",
     "output_type": "stream",
     "text": [
      "nom: Geldoff prenom: Bob age: 44 <__main__.Personne object at 0x000001A32E648F08>\n",
      "nom: Cooper prenom: Alice age: 99 <__main__.Personne object at 0x000001A32E65DFC8>\n"
     ]
    }
   ],
   "source": [
    "class Personne:\n",
    "    \"\"\"Classe définissant une personne caractérisée par :\n",
    "    - son nom\n",
    "    - son prénom\n",
    "    - son âge\"\"\"\n",
    "    def __init__(self, nom : str, prenom : str, age=33):\n",
    "        self.nom = nom\n",
    "        self.prenom = prenom\n",
    "        self.age = age\n",
    "\n",
    "        \n",
    "def affiche(individu):\n",
    "    print(\"nom:\",individu.nom, \"prenom:\",individu.prenom, \"age:\", individu.age, individu)\n",
    "        \n",
    "bob = Personne(\"Geldoff\", \"Bob\", 44)\n",
    "affiche(bob)\n",
    "alice = Personne(\"Cooper\", \"Alice\", 99)\n",
    "affiche(alice)\n",
    "\n",
    "\n",
    "\n"
   ]
  },
  {
   "cell_type": "markdown",
   "metadata": {},
   "source": [
    "## Attributs et méthodes privés\n",
    "\n",
    "La visibilité privée restreint la portée d'un attribut ou d'une méthode au module où il ou elle est déclaré(e).\n",
    "Ainsi, si un objet est déclaré dans une unité avec un attribut privé, alors cet attribut ne pourra être accédé\n",
    "qu'à l'intérieur même de l'unité.\n",
    "Il est possible de les déclarer privés grâce au double souligné __ pour que les éléments ne soient accessibles\n",
    "qu'à la classe elle-même.\n",
    "Très souvent, les accesseurs en lecture verront leur nom commencer par get quand leurs homologues en\n",
    "écriture verront le leur commencer par set.\n"
   ]
  },
  {
   "cell_type": "code",
   "execution_count": 18,
   "metadata": {},
   "outputs": [],
   "source": [
    "class Personne:\n",
    "    \"\"\" Classe représentant une personne \"\"\"\n",
    "    def __init__(self, nom : str, prenom : str, age=33):\n",
    "        self.__nom = nom\n",
    "        self.__prenom = prenom\n",
    "        self.__age = age\n",
    "    def get_name(self):\n",
    "        return self.__nom\n"
   ]
  },
  {
   "cell_type": "code",
   "execution_count": 19,
   "metadata": {},
   "outputs": [
    {
     "name": "stdout",
     "output_type": "stream",
     "text": [
      "Dupont\n",
      "Durant\n",
      "Dupont\n"
     ]
    }
   ],
   "source": [
    "qui = Personne('Dupont', 'Jean')\n",
    "print(qui.get_name())\n",
    "# print(qui.__nom) # lève l’exception AttibuteError\n",
    "qui.__nom = 'Durant' # ne modifie pas l’attribut\n",
    "print(qui.__nom)\n",
    "print(qui.get_name())"
   ]
  },
  {
   "cell_type": "markdown",
   "metadata": {},
   "source": [
    "Mais en fait tout ça est très moche.\n",
    "Python ne fait pas de contrôle réel sur les variables protected qui commencent par un simple '\\_'. \n",
    "En revanche il charcute (to mangle) le nom des attributs privés, qui commencent par un double '\\_\\_' qui sont alors transformés en _object._class__variable. \n",
    "Ils peuvent toujours être exploités, mais en pratique il ne faut se contrôler et ne pas céder à la tentation...\n"
   ]
  },
  {
   "cell_type": "code",
   "execution_count": 20,
   "metadata": {},
   "outputs": [
    {
     "name": "stdout",
     "output_type": "stream",
     "text": [
      "<__main__.Personne object at 0x000001A32E6F5EC8>\n",
      "Durant\n",
      "Dupont\n",
      "Dupont\n"
     ]
    }
   ],
   "source": [
    "print(qui)\n",
    "print(qui.__nom)\n",
    "print(qui.get_name())\n",
    "print(qui._Personne__nom)\n",
    "\n"
   ]
  },
  {
   "cell_type": "markdown",
   "metadata": {},
   "source": [
    "Si on veut faire apparaitre les symboles définis sur une instance on peut utiliser .\\_\\_dict\\_\\_.keys()"
   ]
  },
  {
   "cell_type": "code",
   "execution_count": 21,
   "metadata": {},
   "outputs": [
    {
     "name": "stdout",
     "output_type": "stream",
     "text": [
      "dict_keys(['_Personne__nom', '_Personne__prenom', '_Personne__age', '__nom'])\n"
     ]
    }
   ],
   "source": [
    "print(qui.__dict__.keys())"
   ]
  },
  {
   "cell_type": "markdown",
   "metadata": {},
   "source": [
    "# Héritage\n",
    "\n",
    "L’héritage est l'un des fondements de la programmation objet qui permet une réutilisation d'éléments déjà\n",
    "programmés dans un cadre général. L'héritage est une fonctionnalité objet qui permet de déclarer que telle\n",
    "classe sera elle-même modelée sur une autre classe, qu'on appelle la classe parente, ou la classe mère.\n",
    "Concrètement, si une classe B hérite de la classe A, les objets créés sur le modèle de la classe B auront accès\n",
    "aux méthodes et attributs de la classe A, on dit que la classe A est la fille de la classe B et que la classe B est\n",
    "le parent (ou la superclasse) de la classe A."
   ]
  },
  {
   "cell_type": "markdown",
   "metadata": {},
   "source": [
    "## Héritage simple"
   ]
  },
  {
   "cell_type": "code",
   "execution_count": 22,
   "metadata": {},
   "outputs": [
    {
     "name": "stdout",
     "output_type": "stream",
     "text": [
      "Jean Dupont : 007\n"
     ]
    }
   ],
   "source": [
    "class Personne:\n",
    "    \"\"\"Classe représentant une personne\"\"\"\n",
    "    def __init__(self, nom : str, prenom : str):\n",
    "        self.__nom = nom\n",
    "        self.__prenom = prenom\n",
    "    def get_identity(self):\n",
    "        return self.__prenom + \" \" + self.__nom\n",
    "    \n",
    "class AgentSpecial(Personne):\n",
    "    \"\"\"Classe définissant un agent spécial.\n",
    "    Elle hérite de la classe Personne\"\"\"\n",
    "    def __init__(self, nom : str, prenom : str, matricule : str):\n",
    "        \"\"\"Un agent se définit par son nom et son matricule\"\"\"\n",
    "        Personne.__init__(self, nom, prenom) # appel explicite au constructeur\n",
    "        self.__matricule = matricule\n",
    "    def get_matricule(self):\n",
    "        return self.__matricule\n",
    "\n",
    "### Programme principal ###\n",
    "qui = AgentSpecial('Dupont', 'Jean', '007')\n",
    "print (\"{0} : {1}\".format(qui.get_identity(), qui.get_matricule()))"
   ]
  },
  {
   "cell_type": "markdown",
   "metadata": {},
   "source": [
    "## Héritage multiple\n",
    "\n",
    "Python inclut un mécanisme permettant l'héritage multiple. L'idée est en substance très simple : au lieu\n",
    "d'hériter d'une seule classe, on peut hériter de plusieurs. Assez souvent, on utilisera l'héritage multiple pour\n",
    "des classes qui ont besoin de certaines fonctionnalités définies dans une classe mère.\n",
    "Au lieu de préciser, comme dans les cas d'héritage simple, une seule classe mère entre parenthèses, on\n",
    "indique plusieurs, séparées par des virgules."
   ]
  },
  {
   "cell_type": "markdown",
   "metadata": {},
   "source": [
    "## Polymorphisme\n"
   ]
  },
  {
   "cell_type": "code",
   "execution_count": null,
   "metadata": {},
   "outputs": [],
   "source": []
  }
 ],
 "metadata": {
  "kernelspec": {
   "display_name": "Python 3",
   "language": "python",
   "name": "python3"
  },
  "language_info": {
   "codemirror_mode": {
    "name": "ipython",
    "version": 3
   },
   "file_extension": ".py",
   "mimetype": "text/x-python",
   "name": "python",
   "nbconvert_exporter": "python",
   "pygments_lexer": "ipython3",
   "version": "3.7.4"
  }
 },
 "nbformat": 4,
 "nbformat_minor": 2
}
